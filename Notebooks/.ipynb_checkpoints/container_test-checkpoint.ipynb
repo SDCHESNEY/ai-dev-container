{
 "cells": [
  {
   "cell_type": "markdown",
   "metadata": {},
   "source": [
    "# 🧪 Dev Container Test Notebook\n",
    "\n",
    "This notebook verifies that your AI/ML development environment is working correctly within the VS Code Dev Container on Apple Silicon. It checks:\n",
    "\n",
    "- Python + common libraries\n",
    "- Jupyter kernel functionality\n",
    "- LangChain and OpenAI integration\n",
    "- Simple ML model using `sklearn`"
   ]
  },
  {
   "cell_type": "code",
   "execution_count": null,
   "metadata": {},
   "outputs": [],
   "source": [
    "# ✅ Check core libraries\n",
    "import numpy as np\n",
    "import pandas as pd\n",
    "import matplotlib.pyplot as plt\n",
    "import seaborn as sns\n",
    "import sklearn\n",
    "\n",
    "print(\"✅ Numpy:\", np.__version__)\n",
    "print(\"✅ Pandas:\", pd.__version__)\n",
    "print(\"✅ Scikit-learn:\", sklearn.__version__)\n",
    "print(\"✅ Matplotlib:\", plt.__version__)"
   ]
  },
  {
   "cell_type": "code",
   "execution_count": null,
   "metadata": {},
   "outputs": [],
   "source": [
    "# ✅ Test LangChain and OpenAI integration\n",
    "from langchain.llms import OpenAI\n",
    "import os\n",
    "\n",
    "# Load API key from environment variable\n",
    "api_key = os.getenv(\"OPENAI_API_KEY\")\n",
    "if not api_key:\n",
    "    raise ValueError(\"Missing OPENAI_API_KEY environment variable\")\n",
    "\n",
    "llm = OpenAI(openai_api_key=api_key, temperature=0.5)\n",
    "response = llm(\"What is the capital of Japan?\")\n",
    "print(\"LLM Response:\", response)"
   ]
  },
  {
   "cell_type": "code",
   "execution_count": null,
   "metadata": {},
   "outputs": [],
   "source": [
    "# ✅ Run a simple ML model\n",
    "from sklearn.datasets import load_iris\n",
    "from sklearn.model_selection import train_test_split\n",
    "from sklearn.ensemble import RandomForestClassifier\n",
    "\n",
    "iris = load_iris()\n",
    "X_train, X_test, y_train, y_test = train_test_split(\n",
    "    iris.data, iris.target, test_size=0.3, random_state=42)\n",
    "\n",
    "clf = RandomForestClassifier()\n",
    "clf.fit(X_train, y_train)\n",
    "accuracy = clf.score(X_test, y_test)\n",
    "print(\"✅ ML model accuracy:\", round(accuracy * 100, 2), \"%\")"
   ]
  }
 ],
 "metadata": {
  "kernelspec": {
   "display_name": "Python 3",
   "language": "python",
   "name": "python3"
  },
  "language_info": {
   "name": "python",
   "version": "3.10"
  }
 },
 "nbformat": 4,
 "nbformat_minor": 5
}
