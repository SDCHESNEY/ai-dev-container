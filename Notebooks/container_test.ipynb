{
 "cells": [
  {
   "cell_type": "markdown",
   "id": "7321d041",
   "metadata": {},
   "source": [
    "# 🧪 Dev Container Test Notebook\n",
    "\n",
    "This notebook verifies that your AI/ML development environment is working correctly within the VS Code Dev Container on Apple Silicon. It checks:\n",
    "\n",
    "- Python + common libraries\n",
    "- Jupyter kernel functionality\n",
    "- LangChain and OpenAI integration\n",
    "- Simple ML model using `sklearn`"
   ]
  },
  {
   "cell_type": "code",
   "execution_count": 1,
   "id": "f484a180",
   "metadata": {},
   "outputs": [
    {
     "name": "stdout",
     "output_type": "stream",
     "text": [
      "✅ Numpy: 2.1.3\n",
      "✅ Pandas: 2.2.3\n",
      "✅ Scikit-learn: 1.6.1\n"
     ]
    },
    {
     "ename": "AttributeError",
     "evalue": "module 'matplotlib.pyplot' has no attribute '__version__'",
     "output_type": "error",
     "traceback": [
      "\u001b[0;31m---------------------------------------------------------------------------\u001b[0m",
      "\u001b[0;31mAttributeError\u001b[0m                            Traceback (most recent call last)",
      "Cell \u001b[0;32mIn[1], line 11\u001b[0m\n\u001b[1;32m      9\u001b[0m \u001b[38;5;28mprint\u001b[39m(\u001b[38;5;124m\"\u001b[39m\u001b[38;5;124m✅ Pandas:\u001b[39m\u001b[38;5;124m\"\u001b[39m, pd\u001b[38;5;241m.\u001b[39m__version__)\n\u001b[1;32m     10\u001b[0m \u001b[38;5;28mprint\u001b[39m(\u001b[38;5;124m\"\u001b[39m\u001b[38;5;124m✅ Scikit-learn:\u001b[39m\u001b[38;5;124m\"\u001b[39m, sklearn\u001b[38;5;241m.\u001b[39m__version__)\n\u001b[0;32m---> 11\u001b[0m \u001b[38;5;28mprint\u001b[39m(\u001b[38;5;124m\"\u001b[39m\u001b[38;5;124m✅ Matplotlib:\u001b[39m\u001b[38;5;124m\"\u001b[39m, \u001b[43mplt\u001b[49m\u001b[38;5;241;43m.\u001b[39;49m\u001b[43m__version__\u001b[49m)\n",
      "\u001b[0;31mAttributeError\u001b[0m: module 'matplotlib.pyplot' has no attribute '__version__'"
     ]
    }
   ],
   "source": [
    "# ✅ Check core libraries\n",
    "import numpy as np\n",
    "import pandas as pd\n",
    "import matplotlib.pyplot as plt\n",
    "import seaborn as sns\n",
    "import sklearn\n",
    "\n",
    "print(\"✅ Numpy:\", np.__version__)\n",
    "print(\"✅ Pandas:\", pd.__version__)\n",
    "print(\"✅ Scikit-learn:\", sklearn.__version__)\n",
    "print(\"✅ Matplotlib:\", plt.__version__)"
   ]
  },
  {
   "cell_type": "code",
   "execution_count": null,
   "id": "0a1fd1af",
   "metadata": {},
   "outputs": [],
   "source": [
    "# ✅ Test LangChain and OpenAI integration\n",
    "from langchain.llms import OpenAI\n",
    "import os\n",
    "\n",
    "# Load API key from environment variable\n",
    "api_key = os.getenv(\"OPENAI_API_KEY\")\n",
    "if not api_key:\n",
    "    raise ValueError(\"Missing OPENAI_API_KEY environment variable\")\n",
    "\n",
    "llm = OpenAI(openai_api_key=api_key, temperature=0.5)\n",
    "response = llm(\"What is the capital of Japan?\")\n",
    "print(\"LLM Response:\", response)"
   ]
  },
  {
   "cell_type": "code",
   "execution_count": null,
   "id": "7659c9b5",
   "metadata": {},
   "outputs": [],
   "source": [
    "# ✅ Run a simple ML model\n",
    "from sklearn.datasets import load_iris\n",
    "from sklearn.model_selection import train_test_split\n",
    "from sklearn.ensemble import RandomForestClassifier\n",
    "\n",
    "iris = load_iris()\n",
    "X_train, X_test, y_train, y_test = train_test_split(\n",
    "    iris.data, iris.target, test_size=0.3, random_state=42)\n",
    "\n",
    "clf = RandomForestClassifier()\n",
    "clf.fit(X_train, y_train)\n",
    "accuracy = clf.score(X_test, y_test)\n",
    "print(\"✅ ML model accuracy:\", round(accuracy * 100, 2), \"%\")"
   ]
  }
 ],
 "metadata": {
  "kernelspec": {
   "display_name": "Python 3 (ipykernel)",
   "language": "python",
   "name": "python3"
  },
  "language_info": {
   "codemirror_mode": {
    "name": "ipython",
    "version": 3
   },
   "file_extension": ".py",
   "mimetype": "text/x-python",
   "name": "python",
   "nbconvert_exporter": "python",
   "pygments_lexer": "ipython3",
   "version": "3.10.12"
  }
 },
 "nbformat": 4,
 "nbformat_minor": 5
}
